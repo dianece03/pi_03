{
 "cells": [
  {
   "cell_type": "markdown",
   "metadata": {},
   "source": [
    "Reporte de calidad del dato\n",
    "dataset = AccidentesAvsiones.csv\n",
    "En este reporte se intentará mostrar las características del dataset provisto. Se hace un análisis de cómo se componen y si sus datos pueden transformarse en información de valor. El EDA completo puede encontrarse en el archivo main.ipynb\n",
    "\n",
    "Diccionario de columnas en las tablas\n",
    "Unnamed: 0 = Index del dataset fecha = Fecha del accidente HORA declarada = Hora del accidente Ruta = Lugar (exacto o apróximado) del accidente. OperadOR = Aerolínea u operador de la aeronave flight_no = Número de vuelo asociado al operador de la aerolínea route = Ruta parcial o completa prevista ac_type = Tipo de aeronave cn_ln = número de serie (construcción)/Linea de fuselaje all_aboard = todas las personas abordo de la aeronave PASAJEROS A BORDO = Pasajeros a bordo de la aeronave crew_aboard = Tripulación a bordo cantidad de fallecidos = Cantidad total de fallecidos passenger_fatalities = pasajeros fallecidos crew_fatalities = miembros de tripulación fallecidos ground = fallecimientos extra causados por el impacto de la aeronave summary = detalles del accidente\n",
    "\n",
    "Cantidad de datos nulos\n",
    "flight_no 73.522364% HORA declarada 30.031949% route 15.215655% cn_ln 13.318690% registration 5.431310% crew_fatalities 4.692492% passenger_fatalities 4.692492% PASAJEROS A BORDO 4.412939% crew_aboard 4.373003% summary 1.178115% ground 0.878594% all_aboard 0.339457% ac_type 0.259585% OperadOR 0.199681% cantidad de fallecidos 0.159744% Ruta 0.099840% fecha 0.000000%\n",
    "\n",
    "La falta de datos en la columna de flight_no la hace inutilizable dentro del dataset.\n",
    "\n",
    "Outliers\n",
    "No se han detectado outliers significativos en las variables númericas\n",
    "\n",
    "Errores de carga - Falta de normalización\n",
    "Se encuentran problemas en las columnas particularmente de: - HORA declarada = Hora del accidente - OperadOR: hay algunos operadores que se repiten pero con leves variables en su nombre, por ej: 'A B Aerotransport' AB Aerotransport'\n",
    "\n",
    "La columna hora tiene dos problemas principales. El primero es la falta de dato y la dificultad de obtener el dato correcto. La segunda problemática que tiene es inconsistencia en su formato ya que algunos tiene formato militar 24:00 y otros formato tradicional 12:00. Además algunas filas tienen errores como letras ademaás de números\n",
    "\n",
    "Falta de estandarización del nombre de columnas\n",
    "Hay columnas con nombres en inglés y otras en español. Algunas tienen nombres contra intuituivos como \"route\" que en realidad representa el lugar del accidente.\n",
    "\n",
    "Datos que necesitan complementos\n",
    "Hay datos que necesitan, además de una estandarización, contexto de otros datos para poder generar mejores relaciones y un buen análisis.\n",
    "\n",
    "Algunos ejemplos son\n",
    "\n",
    "route: El dato muchas veces presenta aclaraciones como \"near x point\" por lo que lo ideal sería intentar cruzarlo con puntos geogräficos. Esto se volvió un poco complejo por los diferentes tipos de representación que hay. Ya que algunas finalizan con el païs y otras con el estado, haciendo que la particiön y extración sea más complicada\n",
    "cn_ln: El nümero de serie/fuselaje puede ser interesante si se puede cruzar con su fabricante ya que es un dato muy particular. Lamentablemente es algo que sí no viene dado, la extracción de su dato complementario es complicado de encontrar publicamente.\n",
    "registration: es el número ICAO y sería bueno cruzarlo con otros datos del tipo de aviön en caso de querer hacer el enfoque por ese lado.\n",
    "Cabe mencionar que ICAO tiene una api que nos permite 100 llamadas a ella para extración de ciertos datos. Para esta investigación decidió tomar otro enfoque pero dejamos como referencia la siguiente página web, cómo una intro al tema: https://unitingaviation.com/news/safety/icaos-aircraft-type-designator-website/\n",
    "\n",
    "Transformaciones\n",
    "Dada las carácteristicas mencionadas anteriormente, es necesario realizar ciertas tranformaciones al dataset para poder trabajar mejor sus datos. Todo el paso a paso se puede ver en main.ipnb\n",
    "\n",
    "Lo primero que hicimos fue tomar acción sobre valores nulos y columnas tal vez no aportan mucho al anásilis.\n",
    "Eliminamos la columnas 'Unnamed: 0' ya que sólo es el índice de la tabla\n",
    "Eliminamos num de vuelo ya que muchos son sólo números y deberïan ser letras y números\n",
    "Eliminamos las filas donde hay faltantes de fallecidos, ya qué el anälisis irá en torno a eso.\n",
    "Normalizamos las fechas para que tengan un formato más simple para la base de datos y también normalizamos la hora\n",
    "Ponemos todos los nombres de las columnas en inglés para que tengan el mismo estandar\n",
    "Vemos cuáles son las columnas que más información aportan y algunas agrupaciones.\n",
    "Eliminamos las columnas que no utilizamos."
   ]
  }
 ],
 "metadata": {
  "kernelspec": {
   "display_name": "Python 3.10.8 64-bit (microsoft store)",
   "language": "python",
   "name": "python3"
  },
  "language_info": {
   "name": "python",
   "version": "3.10.8"
  },
  "orig_nbformat": 4,
  "vscode": {
   "interpreter": {
    "hash": "4e1afa8306cb55419ccee787cb8312231882b2e517df67f62606ed42fb5a5509"
   }
  }
 },
 "nbformat": 4,
 "nbformat_minor": 2
}
